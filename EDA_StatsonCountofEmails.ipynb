{
 "cells": [
  {
   "cell_type": "markdown",
   "id": "a43f17fa",
   "metadata": {},
   "source": [
    "# Date of emails"
   ]
  },
  {
   "cell_type": "code",
   "execution_count": 19,
   "id": "efda8355",
   "metadata": {},
   "outputs": [],
   "source": [
    "import glob\n",
    "import pandas as pd\n",
    "import os\n",
    "import email\n",
    "import re\n",
    "from email.parser import BytesParser, Parser\n",
    "from email.policy import default\n",
    "\n",
    "# extracting months from date of email using parser object\n",
    "months = []\n",
    "for folder in globs.glob(\"maildir/*\"):\n",
    "    count += 1\n",
    "    if os.path.exists(os.path.join(os.getcwd(), \"maildir\" , folder.split(\"\\\\\")[-1], \"inbox\")):\n",
    "        for textfile in glob.glob(os.path.join(os.getcwd(), \"maildir\" , folder.split(\"\\\\\")[-1], \"inbox\", \"*\")):\n",
    "            if not os.path.isdir(textfile):\n",
    "                try:\n",
    "                    with open(textfile, \"r\", encoding=\"utf8\", errors='ignore') as f:\n",
    "                        data = f.read()\n",
    "                    headers = Parser(policy=default).parsestr(data.split(\"-----Original Message-----\")[0])\n",
    "                    months.append(headers['Date'].split(\" \")[2])                    \n",
    "                except Exception as e:\n",
    "                    print(e)"
   ]
  },
  {
   "cell_type": "code",
   "execution_count": 23,
   "id": "3595e82e",
   "metadata": {},
   "outputs": [
    {
     "data": {
      "image/png": "[encoded data removed]",
      "text/plain": [
       "<Figure size 432x288 with 1 Axes>"
      ]
     },
     "metadata": {
      "needs_background": "light"
     },
     "output_type": "display_data"
    }
   ],
   "source": [
    "import matplotlib.pyplot as plt\n",
    "from collections import Counter\n",
    "\n",
    "# plotting a bar chart to understand the count of emails month wise\n",
    "months_count = Counter(months)\n",
    "plt.bar(months_count.keys(), months_count.values())\n",
    "plt.xlabel(\"Month\")\n",
    "plt.ylabel(\"Count of emails in a month\")\n",
    "plt.show()"
   ]
  },
  {
   "cell_type": "code",
   "execution_count": null,
   "id": "d515d142",
   "metadata": {},
   "outputs": [],
   "source": []
  },
  {
   "cell_type": "code",
   "execution_count": null,
   "id": "25e8430f",
   "metadata": {},
   "outputs": [],
   "source": []
  },
  {
   "cell_type": "markdown",
   "id": "a039c0fb",
   "metadata": {},
   "source": [
    "# No. of inbox mails of all users"
   ]
  },
  {
   "cell_type": "code",
   "execution_count": 39,
   "id": "b65263d8",
   "metadata": {
    "scrolled": true
   },
   "outputs": [
    {
     "name": "stdout",
     "output_type": "stream",
     "text": [
      "No. of inbox emails of all users is 41626\n"
     ]
    }
   ],
   "source": [
    "import glob\n",
    "import pandas as pd\n",
    "import os\n",
    "\n",
    "inbox_mail_sum = 0\n",
    "for folder in glob.glob(\"maildir/*\"):\n",
    "    if os.path.exists(os.path.join(os.getcwd(), \"maildir\" , folder.split(\"\\\\\")[-1], \"inbox\")):\n",
    "        inbox_mail_sum = inbox_mail_sum + len(glob.glob(os.path.join(os.getcwd(), \"maildir\" , folder.split(\"\\\\\")[-1], \"inbox\" + \"/*\")))\n",
    "        \n",
    "print(\"No. of inbox emails of all users is\", inbox_mail_sum)"
   ]
  },
  {
   "cell_type": "markdown",
   "id": "98adb75c",
   "metadata": {},
   "source": [
    "# No. of Deleted emails of all users"
   ]
  },
  {
   "cell_type": "code",
   "execution_count": 40,
   "id": "6d08a3f9",
   "metadata": {},
   "outputs": [
    {
     "name": "stdout",
     "output_type": "stream",
     "text": [
      "No. of deleted emails of all users is 51015\n"
     ]
    }
   ],
   "source": [
    "import glob\n",
    "import pandas as pd\n",
    "import os\n",
    "\n",
    "deleted_mails_sum = 0\n",
    "for folder in glob.glob(\"maildir/*\"):\n",
    "    if os.path.exists(os.path.join(os.getcwd(), \"maildir\" , folder.split(\"\\\\\")[-1], \"deleted_items\")):\n",
    "        deleted_mails_sum = deleted_mails_sum + len(glob.glob(os.path.join(os.getcwd(), \"maildir\" , folder.split(\"\\\\\")[-1], \"deleted_items\" + \"/*\")))\n",
    "        \n",
    "print(\"No. of deleted emails of all users is\", deleted_mails_sum)"
   ]
  },
  {
   "cell_type": "markdown",
   "id": "8547b2c9",
   "metadata": {},
   "source": [
    "# No. of sent mails of all users"
   ]
  },
  {
   "cell_type": "code",
   "execution_count": 41,
   "id": "0bfda88d",
   "metadata": {},
   "outputs": [
    {
     "name": "stdout",
     "output_type": "stream",
     "text": [
      "No. of sent emails of all users is 37921\n"
     ]
    }
   ],
   "source": [
    "import glob\n",
    "import pandas as pd\n",
    "import os\n",
    "\n",
    "sent_mails_sum = 0\n",
    "for folder in glob.glob(\"maildir/*\"):\n",
    "    if os.path.exists(os.path.join(os.getcwd(), \"maildir\" , folder.split(\"\\\\\")[-1], \"sent_items\")):\n",
    "        sent_mails_sum = sent_mails_sum + len(glob.glob(os.path.join(os.getcwd(), \"maildir\" , folder.split(\"\\\\\")[-1], \"sent_items\" + \"/*\")))\n",
    "        \n",
    "print(\"No. of sent emails of all users is\", sent_mails_sum)"
   ]
  },
  {
   "cell_type": "code",
   "execution_count": 27,
   "id": "f229f53a",
   "metadata": {
    "scrolled": true
   },
   "outputs": [
    {
     "data": {
      "image/png": "[encoded data removed]",
      "text/plain": [
       "<Figure size 432x288 with 1 Axes>"
      ]
     },
     "metadata": {
      "needs_background": "light"
     },
     "output_type": "display_data"
    }
   ],
   "source": [
    "# plotting a bar chart to understand the count of emails in inbox, deleted_mails, sent_emails\n",
    "no_of_mails_stats = {\"inbox_mails_count\": 41626,\n",
    "                    \"deleted_mails_count\": 51015,\n",
    "                    \"sent_mails_count\": 37921}\n",
    "\n",
    "plt.bar(no_of_mails_stats.keys(), no_of_mails_stats.values())\n",
    "plt.xlabel(\"category of emails\")\n",
    "plt.ylabel(\"Total count of emails\")\n",
    "plt.show()"
   ]
  },
  {
   "cell_type": "code",
   "execution_count": 36,
   "id": "1edf2ba7",
   "metadata": {},
   "outputs": [],
   "source": [
    "mails_stats_df = pd.DataFrame(no_of_mails_stats.values(), index = no_of_mails_stats.keys()).reset_index()\n",
    "mails_stats_df = mails_stats_df.rename(columns = {'index': \"Mails\", 0: \"Count\"})"
   ]
  },
  {
   "cell_type": "code",
   "execution_count": 37,
   "id": "9ff08402",
   "metadata": {},
   "outputs": [
    {
     "data": {
      "text/html": [
       "<div>\n",
       "<style scoped>\n",
       "    .dataframe tbody tr th:only-of-type {\n",
       "        vertical-align: middle;\n",
       "    }\n",
       "\n",
       "    .dataframe tbody tr th {\n",
       "        vertical-align: top;\n",
       "    }\n",
       "\n",
       "    .dataframe thead th {\n",
       "        text-align: right;\n",
       "    }\n",
       "</style>\n",
       "<table border=\"1\" class=\"dataframe\">\n",
       "  <thead>\n",
       "    <tr style=\"text-align: right;\">\n",
       "      <th></th>\n",
       "      <th>Mails</th>\n",
       "      <th>Count</th>\n",
       "    </tr>\n",
       "  </thead>\n",
       "  <tbody>\n",
       "    <tr>\n",
       "      <th>0</th>\n",
       "      <td>inbox_mails_count</td>\n",
       "      <td>41626</td>\n",
       "    </tr>\n",
       "    <tr>\n",
       "      <th>1</th>\n",
       "      <td>deleted_mails_count</td>\n",
       "      <td>51015</td>\n",
       "    </tr>\n",
       "    <tr>\n",
       "      <th>2</th>\n",
       "      <td>sent_mails_count</td>\n",
       "      <td>37921</td>\n",
       "    </tr>\n",
       "  </tbody>\n",
       "</table>\n",
       "</div>"
      ],
      "text/plain": [
       "                 Mails  Count\n",
       "0    inbox_mails_count  41626\n",
       "1  deleted_mails_count  51015\n",
       "2     sent_mails_count  37921"
      ]
     },
     "execution_count": 37,
     "metadata": {},
     "output_type": "execute_result"
    }
   ],
   "source": [
    "mails_stats_df"
   ]
  },
  {
   "cell_type": "code",
   "execution_count": null,
   "id": "02a8a146",
   "metadata": {},
   "outputs": [],
   "source": []
  }
 ],
 "metadata": {
  "kernelspec": {
   "display_name": "Python 3 (ipykernel)",
   "language": "python",
   "name": "python3"
  },
  "language_info": {
   "codemirror_mode": {
    "name": "ipython",
    "version": 3
   },
   "file_extension": ".py",
   "mimetype": "text/x-python",
   "name": "python",
   "nbconvert_exporter": "python",
   "pygments_lexer": "ipython3",
   "version": "3.9.12"
  }
 },
 "nbformat": 4,
 "nbformat_minor": 5
}
